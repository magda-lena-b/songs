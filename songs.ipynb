{
 "cells": [
  {
   "cell_type": "markdown",
   "metadata": {},
   "source": [
    "### Tworzenie klasy \"choir\"\n",
    "\n",
    "Klasa posiada metody:\n",
    "\n",
    "***learn_old_songs(artists, pages)***\n",
    "\n",
    "Parametry oznaczają listę artystów i liczbę stron, na któych ma się uczyć. Na jednej stronie znajduje się 100 piosenek.\n",
    "Domyślnie uczy się na 100 piosenkach Queen.\n",
    "\n",
    "***learn_to_sing(n)***\n",
    "\n",
    "n to parametr uczenia modelu, od którego zależyjego złożoność i liczba słów, od której będziemy zaczynać nowe piosenki\n",
    "Domyślnie n=2.\n",
    "\n",
    "***sing_song(song_start, steps)***\n",
    "\n",
    "Song_start to string zawierający tyle słów ile wynosi n. Steps to liczba kroków, w których piosenka będzie rozwijana.\n",
    "Domyślnie liczba kroków to 30.\n",
    "Jeśli nie podamy początku piosenki, chór wybierze losowy początek."
   ]
  },
  {
   "cell_type": "code",
   "execution_count": 59,
   "metadata": {},
   "outputs": [],
   "source": [
    "import re\n",
    "import pandas as pd\n",
    "import numpy as np\n",
    "from bs4 import BeautifulSoup\n",
    "import urllib.request\n",
    "import random\n",
    "from typing import Dict\n",
    "\n",
    "artists=['Paul Mccartney','Rod Stewart','Johnny Cash','Ray Charles']\n",
    "\n",
    "class choir():\n",
    "    \n",
    "    def __init__(self):\n",
    "        self.url = 'http://lyricsera.com/{art}-p{page}-lyrics.html'\n",
    " \n",
    "       \n",
    "    def learn_old_songs(self, artists: list=['queen'], pages: int = 2)  -> pd.DataFrame:\n",
    "        print(\"Analyzing old songs...\")\n",
    "        songs = dict(title=[], lyrics=[])\n",
    "\n",
    "        for artist in artists:\n",
    "            print(artist)\n",
    "            \n",
    "            for page in range(1,pages+1):\n",
    "                print(\"Page: {page}\".format(page=page))\n",
    "                url = 'http://lyricsera.com/{art}-p{page}-lyrics.html'.format(art = artist.lower().replace(\" \",\"-\"),page=page)\n",
    "                request = urllib.request.urlopen(url)\n",
    "                soup = BeautifulSoup(request, 'lxml')\n",
    "                for link in self.extract_links(soup):\n",
    "                    request_link = urllib.request.urlopen(link.get('href'))\n",
    "                    soup_link = BeautifulSoup(request_link.read(), 'lxml')\n",
    "                    song_text = self.preprocess_lyrics(str(soup_link.tt).lower())\n",
    "                    songs['title'].append(link.get('title'))\n",
    "                    songs['lyrics'].append(song_text)\n",
    "        \n",
    "        self.songs_db = pd.DataFrame.from_dict(songs)                    \n",
    "    \n",
    "    \n",
    "    @staticmethod    \n",
    "    def extract_links(soup):\n",
    "            links = []\n",
    "            for link in soup.find_all('a'):\n",
    "                try:\n",
    "                    if re.search(r\"/[0-9]\",link.get('href')):\n",
    "                        links.append(link)\n",
    "                except Exception as e:\n",
    "                    print(e.args + ('failed for {link}'.format(link=link),))\n",
    "            return links\n",
    "\n",
    "    @staticmethod\n",
    "    def preprocess_lyrics(lyrics):\n",
    "        try:\n",
    "            song_text = re.sub(r\"[\\[=,.!?()\\\"]\", \" \", lyrics)\n",
    "            song_text = re.sub(r\"<[a-z/]+>\", \" \", song_text)\n",
    "            song_text = re.sub(r\"\\s+\", \" \", song_text)\n",
    "            song_text = song_text.replace(\"chorus\", \" \").replace(\" ' \",\" \")\n",
    "            return song_text\n",
    "        except Exception as e:\n",
    "            print(e.args + ('preprocessing failed.',))\n",
    "            return lyrics    \n",
    "\n",
    "        \n",
    "    def learn_to_sing(self, n: int = 2):\n",
    "        \n",
    "        if hasattr(self, 'songs_db') == False:\n",
    "            print('Need to learn old songs first...')\n",
    "            self.learn_old_songs()\n",
    "        \n",
    "        print(\"Learning how to sing...\")\n",
    "        self.n = n\n",
    "        count = 1.0\n",
    "        words, words_model = list(), dict()\n",
    "        for lyrics in self.songs_db['lyrics']:\n",
    "            words.extend(lyrics.split())\n",
    "            for i in range(len(words)-n):\n",
    "                song_part = ' '.join(words[i:i+n])\n",
    "                if song_part not in words_model.keys():\n",
    "                    words_model[song_part]=[]\n",
    "                words_model[song_part].append(words[i+n])\n",
    "                \n",
    "            if round(10*count/len(self.songs_db['lyrics']))>round(10*(count-1)/len(self.songs_db['lyrics'])):\n",
    "                print(round(100*count/len(self.songs_db['lyrics'])), '% done')\n",
    "            count += 1\n",
    "        \n",
    "        self.model = words_model\n",
    "\n",
    "        \n",
    "    def sing_song(self, song_start: str = '', steps: int = 30):\n",
    "       \n",
    "        if hasattr(self, 'model') == False:\n",
    "            print(\"Have to learn how to sing first\")\n",
    "            self.learn_to_sing()\n",
    "        \n",
    "        if song_start=='':\n",
    "            r = random.randrange(len(self.model.keys()))\n",
    "            song_start = list(self.model.keys())[r]\n",
    "            \n",
    "        if song_start in self.model.keys():\n",
    "            song = list()\n",
    "            words = song_start\n",
    "            song.append(words)\n",
    "            for _ in range(steps):\n",
    "                possibilities = self.model[words]\n",
    "                next_item = possibilities[random.randrange(len(possibilities))]\n",
    "                song.append(next_item)\n",
    "                words = ' '.join(song[-self.n:])\n",
    "                words = ' '.join(words.split()[-self.n:])\n",
    "            return ' '.join(song)\n",
    "        else: print(\"Cannot start with those words. Please try a different beginning.\")"
   ]
  },
  {
   "cell_type": "code",
   "execution_count": 57,
   "metadata": {
    "collapsed": true
   },
   "outputs": [],
   "source": [
    "m1 = choir()"
   ]
  },
  {
   "cell_type": "code",
   "execution_count": null,
   "metadata": {},
   "outputs": [],
   "source": [
    "m1.sing_song()"
   ]
  },
  {
   "cell_type": "code",
   "execution_count": 60,
   "metadata": {},
   "outputs": [],
   "source": [
    "m2 = choir()"
   ]
  },
  {
   "cell_type": "code",
   "execution_count": 61,
   "metadata": {},
   "outputs": [
    {
     "name": "stdout",
     "output_type": "stream",
     "text": [
      "Analyzing old songs...\n",
      "Paul Mccartney\n",
      "Page: 1\n",
      "Page: 2\n",
      "Rod Stewart\n",
      "Page: 1\n",
      "Page: 2\n",
      "Johnny Cash\n",
      "Page: 1\n",
      "Page: 2\n",
      "Ray Charles\n",
      "Page: 1\n",
      "Page: 2\n"
     ]
    }
   ],
   "source": [
    "artists = ['Paul Mccartney','Rod Stewart','Johnny Cash','Ray Charles']\n",
    "m2.learn_old_songs(artists, 3)"
   ]
  },
  {
   "cell_type": "code",
   "execution_count": 62,
   "metadata": {},
   "outputs": [
    {
     "name": "stdout",
     "output_type": "stream",
     "text": [
      "Learning how to sing...\n",
      "5 % done\n",
      "15 % done\n",
      "25 % done\n",
      "35 % done\n",
      "45 % done\n",
      "55 % done\n",
      "65 % done\n",
      "75 % done\n",
      "85 % done\n",
      "95 % done\n"
     ]
    }
   ],
   "source": [
    "m2.learn_to_sing(3)"
   ]
  },
  {
   "cell_type": "code",
   "execution_count": 63,
   "metadata": {},
   "outputs": [
    {
     "data": {
      "text/plain": [
       "\"old massa day after day hearts torn in every way don't time fly when you're loving and laughing i've said goodbye so many times before ain't superstitious a black cat crossed my trail\""
      ]
     },
     "execution_count": 63,
     "metadata": {},
     "output_type": "execute_result"
    }
   ],
   "source": [
    "m2.sing_song()"
   ]
  },
  {
   "cell_type": "code",
   "execution_count": 65,
   "metadata": {},
   "outputs": [
    {
     "data": {
      "text/plain": [
       "'you please listen to me we had a short talk and a long walk through the valley of the shadow of death i will fear no evil for you are with me ill be your salvation though the storm surrounding there are no'"
      ]
     },
     "execution_count": 65,
     "metadata": {},
     "output_type": "execute_result"
    }
   ],
   "source": [
    "m2.sing_song(steps=40)"
   ]
  },
  {
   "cell_type": "code",
   "execution_count": 66,
   "metadata": {},
   "outputs": [
    {
     "name": "stdout",
     "output_type": "stream",
     "text": [
      "Learning how to sing...\n",
      "5 % done\n",
      "15 % done\n",
      "25 % done\n",
      "35 % done\n",
      "45 % done\n",
      "55 % done\n",
      "65 % done\n",
      "75 % done\n",
      "85 % done\n",
      "95 % done\n"
     ]
    }
   ],
   "source": [
    "m2.learn_to_sing(2)"
   ]
  },
  {
   "cell_type": "code",
   "execution_count": 67,
   "metadata": {},
   "outputs": [
    {
     "data": {
      "text/plain": [
       "\"hand what a time there was a beautiful thing as long as we've been calling it love but when i looked into your beautiful eyes still no reflection did i begin to\""
      ]
     },
     "execution_count": 67,
     "metadata": {},
     "output_type": "execute_result"
    }
   ],
   "source": [
    "m2.sing_song()"
   ]
  },
  {
   "cell_type": "code",
   "execution_count": 68,
   "metadata": {},
   "outputs": [
    {
     "data": {
      "text/plain": [
       "\"i did i said a shoulder to shoulder all right one more celestial dance if only but it's cold outside i simply must go along the highwayhoney i want to come home\""
      ]
     },
     "execution_count": 68,
     "metadata": {},
     "output_type": "execute_result"
    }
   ],
   "source": [
    "m2.sing_song(\"i did\")"
   ]
  },
  {
   "cell_type": "code",
   "execution_count": 69,
   "metadata": {},
   "outputs": [
    {
     "data": {
      "text/plain": [
       "\"you are alone with all your regrets you know don't you cry gonna be just fine mm-mm well i grew up quick and i won't let nobody hurt you no more and don't you meet today tomorrow forget you're the best friends i've found a more down hero if you'da taken an\""
      ]
     },
     "execution_count": 69,
     "metadata": {},
     "output_type": "execute_result"
    }
   ],
   "source": [
    "m2.sing_song(\"you are\", 50)"
   ]
  },
  {
   "cell_type": "code",
   "execution_count": null,
   "metadata": {
    "collapsed": true
   },
   "outputs": [],
   "source": []
  }
 ],
 "metadata": {
  "kernelspec": {
   "display_name": "Python 3",
   "language": "python",
   "name": "python3"
  },
  "language_info": {
   "codemirror_mode": {
    "name": "ipython",
    "version": 3
   },
   "file_extension": ".py",
   "mimetype": "text/x-python",
   "name": "python",
   "nbconvert_exporter": "python",
   "pygments_lexer": "ipython3",
   "version": "3.6.3"
  }
 },
 "nbformat": 4,
 "nbformat_minor": 2
}
